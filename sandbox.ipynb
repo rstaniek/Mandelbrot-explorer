{
 "cells": [
  {
   "cell_type": "code",
   "execution_count": 1,
   "metadata": {},
   "outputs": [],
   "source": [
    "from alive_progress import alive_bar\n",
    "import time\n"
   ]
  },
  {
   "cell_type": "code",
   "execution_count": 2,
   "metadata": {},
   "outputs": [],
   "source": [
    "\n",
    "with alive_bar(500, force_tty=True) as bar:\n",
    "    for _ in range(500):\n",
    "        time.sleep(.01)\n",
    "        bar()"
   ]
  }
 ],
 "metadata": {
  "interpreter": {
   "hash": "cd1463a23ce27efab617c33a3852153fe367a53f92b7ca95ae567e8d37d845c5"
  },
  "kernelspec": {
   "display_name": "Python 3.9.0 64-bit",
   "language": "python",
   "name": "python3"
  },
  "language_info": {
   "codemirror_mode": {
    "name": "ipython",
    "version": 3
   },
   "file_extension": ".py",
   "mimetype": "text/x-python",
   "name": "python",
   "nbconvert_exporter": "python",
   "pygments_lexer": "ipython3",
   "version": "3.9.0"
  },
  "orig_nbformat": 4
 },
 "nbformat": 4,
 "nbformat_minor": 2
}
